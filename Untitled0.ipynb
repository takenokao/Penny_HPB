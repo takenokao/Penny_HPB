{
  "nbformat": 4,
  "nbformat_minor": 0,
  "metadata": {
    "colab": {
      "provenance": [],
      "authorship_tag": "ABX9TyOVhf6YG8fwNY18KJdDhu++",
      "include_colab_link": true
    },
    "kernelspec": {
      "name": "python3",
      "display_name": "Python 3"
    },
    "language_info": {
      "name": "python"
    }
  },
  "cells": [
    {
      "cell_type": "markdown",
      "metadata": {
        "id": "view-in-github",
        "colab_type": "text"
      },
      "source": [
        "<a href=\"https://colab.research.google.com/github/takenokao/Penny_HPB/blob/main/Untitled0.ipynb\" target=\"_parent\"><img src=\"https://colab.research.google.com/assets/colab-badge.svg\" alt=\"Open In Colab\"/></a>"
      ]
    },
    {
      "cell_type": "code",
      "metadata": {
        "id": "5LsDtwRkODQQ"
      },
      "source": [
        "#分類モデルの作成\n",
        "#1. 必要なモジュールのインポート\n",
        "\n",
        "import numpy as np\n",
        "import matplotlib.pyplot as plt\n",
        "import seaborn as sns\n",
        "import pandas as pd\n",
        "\n",
        "\n",
        "\n",
        "from sklearn.model_selection import train_test_split\n",
        "\n",
        "# JupyterNotebook上でグラフを表示する設定\n",
        "%matplotlib inline\n",
        "# DataFrameで全ての列を表示する設定\n",
        "pd.options.display.max_columns = None"
      ],
      "execution_count": null,
      "outputs": []
    },
    {
      "cell_type": "code",
      "metadata": {
        "colab": {
          "base_uri": "https://localhost:8080/",
          "height": 204
        },
        "id": "bqAEer-VOL_c",
        "outputId": "c9fc1598-eea3-44b1-a701-2ca7fde533ad"
      },
      "source": [
        "#2. データの読み込み（以下、作成）\n",
        "dataset = pd.read_csv('/content/train.csv', encoding='cp932')\n",
        "\n",
        "\n",
        "# datasetから「Survived, Pclass, Sex, Age, SibSp, Parch, Fare, Embarked」の列を取得してdatasetに代入する（以下、作成）\n",
        "dataset = dataset[['Survived','Pclass','Sex','Age','SibSp','Parch','Fare','Embarked']]\n",
        "\n",
        "\n",
        "#最初の5行を表示（以下、作成）\n",
        "dataset.head()"
      ],
      "execution_count": null,
      "outputs": [
        {
          "output_type": "execute_result",
          "data": {
            "text/html": [
              "<div>\n",
              "<style scoped>\n",
              "    .dataframe tbody tr th:only-of-type {\n",
              "        vertical-align: middle;\n",
              "    }\n",
              "\n",
              "    .dataframe tbody tr th {\n",
              "        vertical-align: top;\n",
              "    }\n",
              "\n",
              "    .dataframe thead th {\n",
              "        text-align: right;\n",
              "    }\n",
              "</style>\n",
              "<table border=\"1\" class=\"dataframe\">\n",
              "  <thead>\n",
              "    <tr style=\"text-align: right;\">\n",
              "      <th></th>\n",
              "      <th>Survived</th>\n",
              "      <th>Pclass</th>\n",
              "      <th>Sex</th>\n",
              "      <th>Age</th>\n",
              "      <th>SibSp</th>\n",
              "      <th>Parch</th>\n",
              "      <th>Fare</th>\n",
              "      <th>Embarked</th>\n",
              "    </tr>\n",
              "  </thead>\n",
              "  <tbody>\n",
              "    <tr>\n",
              "      <th>0</th>\n",
              "      <td>0</td>\n",
              "      <td>3</td>\n",
              "      <td>male</td>\n",
              "      <td>22.0</td>\n",
              "      <td>1</td>\n",
              "      <td>0</td>\n",
              "      <td>7.2500</td>\n",
              "      <td>S</td>\n",
              "    </tr>\n",
              "    <tr>\n",
              "      <th>1</th>\n",
              "      <td>1</td>\n",
              "      <td>1</td>\n",
              "      <td>female</td>\n",
              "      <td>38.0</td>\n",
              "      <td>1</td>\n",
              "      <td>0</td>\n",
              "      <td>71.2833</td>\n",
              "      <td>C</td>\n",
              "    </tr>\n",
              "    <tr>\n",
              "      <th>2</th>\n",
              "      <td>1</td>\n",
              "      <td>3</td>\n",
              "      <td>female</td>\n",
              "      <td>26.0</td>\n",
              "      <td>0</td>\n",
              "      <td>0</td>\n",
              "      <td>7.9250</td>\n",
              "      <td>S</td>\n",
              "    </tr>\n",
              "    <tr>\n",
              "      <th>3</th>\n",
              "      <td>1</td>\n",
              "      <td>1</td>\n",
              "      <td>female</td>\n",
              "      <td>35.0</td>\n",
              "      <td>1</td>\n",
              "      <td>0</td>\n",
              "      <td>53.1000</td>\n",
              "      <td>S</td>\n",
              "    </tr>\n",
              "    <tr>\n",
              "      <th>4</th>\n",
              "      <td>0</td>\n",
              "      <td>3</td>\n",
              "      <td>male</td>\n",
              "      <td>35.0</td>\n",
              "      <td>0</td>\n",
              "      <td>0</td>\n",
              "      <td>8.0500</td>\n",
              "      <td>S</td>\n",
              "    </tr>\n",
              "  </tbody>\n",
              "</table>\n",
              "</div>"
            ],
            "text/plain": [
              "   Survived  Pclass     Sex   Age  SibSp  Parch     Fare Embarked\n",
              "0         0       3    male  22.0      1      0   7.2500        S\n",
              "1         1       1  female  38.0      1      0  71.2833        C\n",
              "2         1       3  female  26.0      0      0   7.9250        S\n",
              "3         1       1  female  35.0      1      0  53.1000        S\n",
              "4         0       3    male  35.0      0      0   8.0500        S"
            ]
          },
          "metadata": {
            "tags": []
          },
          "execution_count": 3
        }
      ]
    },
    {
      "cell_type": "code",
      "metadata": {
        "colab": {
          "base_uri": "https://localhost:8080/"
        },
        "id": "1zXrKDU9WEEf",
        "outputId": "b4fc4b78-7682-42c1-d441-77dd1d373531"
      },
      "source": [
        "#3. データの前処理\n",
        "\n",
        "# 要約統計量を表示\n",
        "print(dataset.describe)"
      ],
      "execution_count": null,
      "outputs": [
        {
          "output_type": "stream",
          "text": [
            "<bound method NDFrame.describe of      Survived  Pclass     Sex   Age  SibSp  Parch     Fare Embarked\n",
            "0           0       3    male  22.0      1      0   7.2500        S\n",
            "1           1       1  female  38.0      1      0  71.2833        C\n",
            "2           1       3  female  26.0      0      0   7.9250        S\n",
            "3           1       1  female  35.0      1      0  53.1000        S\n",
            "4           0       3    male  35.0      0      0   8.0500        S\n",
            "..        ...     ...     ...   ...    ...    ...      ...      ...\n",
            "886         0       2    male  27.0      0      0  13.0000        S\n",
            "887         1       1  female  19.0      0      0  30.0000        S\n",
            "888         0       3  female   NaN      1      2  23.4500        S\n",
            "889         1       1    male  26.0      0      0  30.0000        C\n",
            "890         0       3    male  32.0      0      0   7.7500        Q\n",
            "\n",
            "[891 rows x 8 columns]>\n"
          ],
          "name": "stdout"
        }
      ]
    },
    {
      "cell_type": "code",
      "metadata": {
        "colab": {
          "base_uri": "https://localhost:8080/"
        },
        "id": "ZDfieGUbYX5o",
        "outputId": "4cd1a7ea-c686-4429-996e-5556ba0173ca"
      },
      "source": [
        "# 各列の欠損値の数を確認\n",
        "print(dataset.isnull().sum())"
      ],
      "execution_count": null,
      "outputs": [
        {
          "output_type": "stream",
          "text": [
            "Survived      0\n",
            "Pclass        0\n",
            "Sex           0\n",
            "Age         177\n",
            "SibSp         0\n",
            "Parch         0\n",
            "Fare          0\n",
            "Embarked      2\n",
            "dtype: int64\n"
          ],
          "name": "stdout"
        }
      ]
    },
    {
      "cell_type": "code",
      "metadata": {
        "id": "CLPF7JEUabYj"
      },
      "source": [
        "# ageの欠損値を平均値にて補完\n",
        "dataset['Age']=dataset['Age'].fillna(dataset['Age'].mean())"
      ],
      "execution_count": null,
      "outputs": []
    },
    {
      "cell_type": "code",
      "metadata": {
        "colab": {
          "base_uri": "https://localhost:8080/"
        },
        "id": "4atUb4aGaq3t",
        "outputId": "80dfb368-cfa8-4b0d-e632-77b69122bede"
      },
      "source": [
        "# 乗船者数の多い港を value_counts メソッドで確認\n",
        "dataset['Embarked'].value_counts()"
      ],
      "execution_count": null,
      "outputs": [
        {
          "output_type": "execute_result",
          "data": {
            "text/plain": [
              "S    644\n",
              "C    168\n",
              "Q     77\n",
              "Name: Embarked, dtype: int64"
            ]
          },
          "metadata": {
            "tags": []
          },
          "execution_count": 7
        }
      ]
    },
    {
      "cell_type": "code",
      "metadata": {
        "id": "03NMTIbCavB7"
      },
      "source": [
        "# embarkedには、もっとも乗船者数の多い港を代入（以下、作成）\n",
        "dataset['Embarked'] = dataset['Embarked'].fillna('S')"
      ],
      "execution_count": null,
      "outputs": []
    },
    {
      "cell_type": "code",
      "metadata": {
        "colab": {
          "base_uri": "https://localhost:8080/"
        },
        "id": "6sF-5J9Qc8Y-",
        "outputId": "be775bf7-3976-4ef1-eb26-01f97ffad982"
      },
      "source": [
        "# 補完後の欠損値が0であることを確認（以下、作成）\n",
        "dataset.isnull().any()"
      ],
      "execution_count": null,
      "outputs": [
        {
          "output_type": "execute_result",
          "data": {
            "text/plain": [
              "Survived    False\n",
              "Pclass      False\n",
              "Sex         False\n",
              "Age         False\n",
              "SibSp       False\n",
              "Parch       False\n",
              "Fare        False\n",
              "Embarked    False\n",
              "dtype: bool"
            ]
          },
          "metadata": {
            "tags": []
          },
          "execution_count": 9
        }
      ]
    },
    {
      "cell_type": "code",
      "metadata": {
        "id": "2qluwIrBwAQo",
        "colab": {
          "base_uri": "https://localhost:8080/"
        },
        "outputId": "db465289-64a3-41e6-f488-2098b4d3787f"
      },
      "source": [
        "# 乗客数を表示\n",
        "dataset['Sex'].value_counts()"
      ],
      "execution_count": null,
      "outputs": [
        {
          "output_type": "execute_result",
          "data": {
            "text/plain": [
              "male      577\n",
              "female    314\n",
              "Name: Sex, dtype: int64"
            ]
          },
          "metadata": {
            "tags": []
          },
          "execution_count": 10
        }
      ]
    },
    {
      "cell_type": "code",
      "metadata": {
        "colab": {
          "base_uri": "https://localhost:8080/",
          "height": 142
        },
        "id": "hbUgYCdS81Dg",
        "outputId": "e880b671-495f-4132-9ef9-4f4295de0725"
      },
      "source": [
        "# 横性別、縦生存\n",
        "pd.crosstab(dataset['Sex'],dataset['Survived'])"
      ],
      "execution_count": null,
      "outputs": [
        {
          "output_type": "execute_result",
          "data": {
            "text/html": [
              "<div>\n",
              "<style scoped>\n",
              "    .dataframe tbody tr th:only-of-type {\n",
              "        vertical-align: middle;\n",
              "    }\n",
              "\n",
              "    .dataframe tbody tr th {\n",
              "        vertical-align: top;\n",
              "    }\n",
              "\n",
              "    .dataframe thead th {\n",
              "        text-align: right;\n",
              "    }\n",
              "</style>\n",
              "<table border=\"1\" class=\"dataframe\">\n",
              "  <thead>\n",
              "    <tr style=\"text-align: right;\">\n",
              "      <th>Survived</th>\n",
              "      <th>0</th>\n",
              "      <th>1</th>\n",
              "    </tr>\n",
              "    <tr>\n",
              "      <th>Sex</th>\n",
              "      <th></th>\n",
              "      <th></th>\n",
              "    </tr>\n",
              "  </thead>\n",
              "  <tbody>\n",
              "    <tr>\n",
              "      <th>female</th>\n",
              "      <td>81</td>\n",
              "      <td>233</td>\n",
              "    </tr>\n",
              "    <tr>\n",
              "      <th>male</th>\n",
              "      <td>468</td>\n",
              "      <td>109</td>\n",
              "    </tr>\n",
              "  </tbody>\n",
              "</table>\n",
              "</div>"
            ],
            "text/plain": [
              "Survived    0    1\n",
              "Sex               \n",
              "female     81  233\n",
              "male      468  109"
            ]
          },
          "metadata": {
            "tags": []
          },
          "execution_count": 11
        }
      ]
    },
    {
      "cell_type": "code",
      "metadata": {
        "colab": {
          "base_uri": "https://localhost:8080/",
          "height": 173
        },
        "id": "Rm8RQqz5-sI_",
        "outputId": "3317ee16-657f-4bf8-ceae-dd860cc7ca2e"
      },
      "source": [
        "pd.crosstab(dataset['Embarked'],dataset['Survived'])"
      ],
      "execution_count": null,
      "outputs": [
        {
          "output_type": "execute_result",
          "data": {
            "text/html": [
              "<div>\n",
              "<style scoped>\n",
              "    .dataframe tbody tr th:only-of-type {\n",
              "        vertical-align: middle;\n",
              "    }\n",
              "\n",
              "    .dataframe tbody tr th {\n",
              "        vertical-align: top;\n",
              "    }\n",
              "\n",
              "    .dataframe thead th {\n",
              "        text-align: right;\n",
              "    }\n",
              "</style>\n",
              "<table border=\"1\" class=\"dataframe\">\n",
              "  <thead>\n",
              "    <tr style=\"text-align: right;\">\n",
              "      <th>Survived</th>\n",
              "      <th>0</th>\n",
              "      <th>1</th>\n",
              "    </tr>\n",
              "    <tr>\n",
              "      <th>Embarked</th>\n",
              "      <th></th>\n",
              "      <th></th>\n",
              "    </tr>\n",
              "  </thead>\n",
              "  <tbody>\n",
              "    <tr>\n",
              "      <th>C</th>\n",
              "      <td>75</td>\n",
              "      <td>93</td>\n",
              "    </tr>\n",
              "    <tr>\n",
              "      <th>Q</th>\n",
              "      <td>47</td>\n",
              "      <td>30</td>\n",
              "    </tr>\n",
              "    <tr>\n",
              "      <th>S</th>\n",
              "      <td>427</td>\n",
              "      <td>219</td>\n",
              "    </tr>\n",
              "  </tbody>\n",
              "</table>\n",
              "</div>"
            ],
            "text/plain": [
              "Survived    0    1\n",
              "Embarked          \n",
              "C          75   93\n",
              "Q          47   30\n",
              "S         427  219"
            ]
          },
          "metadata": {
            "tags": []
          },
          "execution_count": 12
        }
      ]
    },
    {
      "cell_type": "code",
      "metadata": {
        "colab": {
          "base_uri": "https://localhost:8080/",
          "height": 173
        },
        "id": "9LgFGm4u_EmC",
        "outputId": "71b6703a-1cef-4383-e538-72279091ba20"
      },
      "source": [
        "pd.crosstab(dataset['Pclass'],dataset['Survived'])"
      ],
      "execution_count": null,
      "outputs": [
        {
          "output_type": "execute_result",
          "data": {
            "text/html": [
              "<div>\n",
              "<style scoped>\n",
              "    .dataframe tbody tr th:only-of-type {\n",
              "        vertical-align: middle;\n",
              "    }\n",
              "\n",
              "    .dataframe tbody tr th {\n",
              "        vertical-align: top;\n",
              "    }\n",
              "\n",
              "    .dataframe thead th {\n",
              "        text-align: right;\n",
              "    }\n",
              "</style>\n",
              "<table border=\"1\" class=\"dataframe\">\n",
              "  <thead>\n",
              "    <tr style=\"text-align: right;\">\n",
              "      <th>Survived</th>\n",
              "      <th>0</th>\n",
              "      <th>1</th>\n",
              "    </tr>\n",
              "    <tr>\n",
              "      <th>Pclass</th>\n",
              "      <th></th>\n",
              "      <th></th>\n",
              "    </tr>\n",
              "  </thead>\n",
              "  <tbody>\n",
              "    <tr>\n",
              "      <th>1</th>\n",
              "      <td>80</td>\n",
              "      <td>136</td>\n",
              "    </tr>\n",
              "    <tr>\n",
              "      <th>2</th>\n",
              "      <td>97</td>\n",
              "      <td>87</td>\n",
              "    </tr>\n",
              "    <tr>\n",
              "      <th>3</th>\n",
              "      <td>372</td>\n",
              "      <td>119</td>\n",
              "    </tr>\n",
              "  </tbody>\n",
              "</table>\n",
              "</div>"
            ],
            "text/plain": [
              "Survived    0    1\n",
              "Pclass            \n",
              "1          80  136\n",
              "2          97   87\n",
              "3         372  119"
            ]
          },
          "metadata": {
            "tags": []
          },
          "execution_count": 13
        }
      ]
    },
    {
      "cell_type": "code",
      "metadata": {
        "colab": {
          "base_uri": "https://localhost:8080/",
          "height": 173
        },
        "id": "59OlvKvDhWCr",
        "outputId": "c1dcf035-1855-427a-a8ee-d181d38ad21f"
      },
      "source": [
        "pd.crosstab(dataset['Embarked'],dataset['Sex'])"
      ],
      "execution_count": null,
      "outputs": [
        {
          "output_type": "execute_result",
          "data": {
            "text/html": [
              "<div>\n",
              "<style scoped>\n",
              "    .dataframe tbody tr th:only-of-type {\n",
              "        vertical-align: middle;\n",
              "    }\n",
              "\n",
              "    .dataframe tbody tr th {\n",
              "        vertical-align: top;\n",
              "    }\n",
              "\n",
              "    .dataframe thead th {\n",
              "        text-align: right;\n",
              "    }\n",
              "</style>\n",
              "<table border=\"1\" class=\"dataframe\">\n",
              "  <thead>\n",
              "    <tr style=\"text-align: right;\">\n",
              "      <th>Sex</th>\n",
              "      <th>female</th>\n",
              "      <th>male</th>\n",
              "    </tr>\n",
              "    <tr>\n",
              "      <th>Embarked</th>\n",
              "      <th></th>\n",
              "      <th></th>\n",
              "    </tr>\n",
              "  </thead>\n",
              "  <tbody>\n",
              "    <tr>\n",
              "      <th>C</th>\n",
              "      <td>73</td>\n",
              "      <td>95</td>\n",
              "    </tr>\n",
              "    <tr>\n",
              "      <th>Q</th>\n",
              "      <td>36</td>\n",
              "      <td>41</td>\n",
              "    </tr>\n",
              "    <tr>\n",
              "      <th>S</th>\n",
              "      <td>205</td>\n",
              "      <td>441</td>\n",
              "    </tr>\n",
              "  </tbody>\n",
              "</table>\n",
              "</div>"
            ],
            "text/plain": [
              "Sex       female  male\n",
              "Embarked              \n",
              "C             73    95\n",
              "Q             36    41\n",
              "S            205   441"
            ]
          },
          "metadata": {
            "tags": []
          },
          "execution_count": 14
        }
      ]
    },
    {
      "cell_type": "code",
      "metadata": {
        "colab": {
          "base_uri": "https://localhost:8080/",
          "height": 459
        },
        "id": "ZWJFxlzHjHUT",
        "outputId": "8165c715-3dcb-4b7a-8ced-b1fbec0ae8eb"
      },
      "source": [
        "dataset[\"Embarked\"][dataset[\"Embarked\"] == \"S\" ] = 5\n",
        "dataset[\"Embarked\"][dataset[\"Embarked\"] == \"C\" ] = 6\n",
        "dataset[\"Embarked\"][dataset[\"Embarked\"] == \"Q\"] = 7\n",
        "\n",
        "dataset.head()"
      ],
      "execution_count": null,
      "outputs": [
        {
          "output_type": "stream",
          "text": [
            "/usr/local/lib/python3.7/dist-packages/ipykernel_launcher.py:1: SettingWithCopyWarning: \n",
            "A value is trying to be set on a copy of a slice from a DataFrame\n",
            "\n",
            "See the caveats in the documentation: https://pandas.pydata.org/pandas-docs/stable/user_guide/indexing.html#returning-a-view-versus-a-copy\n",
            "  \"\"\"Entry point for launching an IPython kernel.\n",
            "/usr/local/lib/python3.7/dist-packages/ipykernel_launcher.py:2: SettingWithCopyWarning: \n",
            "A value is trying to be set on a copy of a slice from a DataFrame\n",
            "\n",
            "See the caveats in the documentation: https://pandas.pydata.org/pandas-docs/stable/user_guide/indexing.html#returning-a-view-versus-a-copy\n",
            "  \n",
            "/usr/local/lib/python3.7/dist-packages/ipykernel_launcher.py:3: SettingWithCopyWarning: \n",
            "A value is trying to be set on a copy of a slice from a DataFrame\n",
            "\n",
            "See the caveats in the documentation: https://pandas.pydata.org/pandas-docs/stable/user_guide/indexing.html#returning-a-view-versus-a-copy\n",
            "  This is separate from the ipykernel package so we can avoid doing imports until\n"
          ],
          "name": "stderr"
        },
        {
          "output_type": "execute_result",
          "data": {
            "text/html": [
              "<div>\n",
              "<style scoped>\n",
              "    .dataframe tbody tr th:only-of-type {\n",
              "        vertical-align: middle;\n",
              "    }\n",
              "\n",
              "    .dataframe tbody tr th {\n",
              "        vertical-align: top;\n",
              "    }\n",
              "\n",
              "    .dataframe thead th {\n",
              "        text-align: right;\n",
              "    }\n",
              "</style>\n",
              "<table border=\"1\" class=\"dataframe\">\n",
              "  <thead>\n",
              "    <tr style=\"text-align: right;\">\n",
              "      <th></th>\n",
              "      <th>Survived</th>\n",
              "      <th>Pclass</th>\n",
              "      <th>Sex</th>\n",
              "      <th>Age</th>\n",
              "      <th>SibSp</th>\n",
              "      <th>Parch</th>\n",
              "      <th>Fare</th>\n",
              "      <th>Embarked</th>\n",
              "    </tr>\n",
              "  </thead>\n",
              "  <tbody>\n",
              "    <tr>\n",
              "      <th>0</th>\n",
              "      <td>0</td>\n",
              "      <td>3</td>\n",
              "      <td>male</td>\n",
              "      <td>22.0</td>\n",
              "      <td>1</td>\n",
              "      <td>0</td>\n",
              "      <td>7.2500</td>\n",
              "      <td>5</td>\n",
              "    </tr>\n",
              "    <tr>\n",
              "      <th>1</th>\n",
              "      <td>1</td>\n",
              "      <td>1</td>\n",
              "      <td>female</td>\n",
              "      <td>38.0</td>\n",
              "      <td>1</td>\n",
              "      <td>0</td>\n",
              "      <td>71.2833</td>\n",
              "      <td>6</td>\n",
              "    </tr>\n",
              "    <tr>\n",
              "      <th>2</th>\n",
              "      <td>1</td>\n",
              "      <td>3</td>\n",
              "      <td>female</td>\n",
              "      <td>26.0</td>\n",
              "      <td>0</td>\n",
              "      <td>0</td>\n",
              "      <td>7.9250</td>\n",
              "      <td>5</td>\n",
              "    </tr>\n",
              "    <tr>\n",
              "      <th>3</th>\n",
              "      <td>1</td>\n",
              "      <td>1</td>\n",
              "      <td>female</td>\n",
              "      <td>35.0</td>\n",
              "      <td>1</td>\n",
              "      <td>0</td>\n",
              "      <td>53.1000</td>\n",
              "      <td>5</td>\n",
              "    </tr>\n",
              "    <tr>\n",
              "      <th>4</th>\n",
              "      <td>0</td>\n",
              "      <td>3</td>\n",
              "      <td>male</td>\n",
              "      <td>35.0</td>\n",
              "      <td>0</td>\n",
              "      <td>0</td>\n",
              "      <td>8.0500</td>\n",
              "      <td>5</td>\n",
              "    </tr>\n",
              "  </tbody>\n",
              "</table>\n",
              "</div>"
            ],
            "text/plain": [
              "   Survived  Pclass     Sex   Age  SibSp  Parch     Fare Embarked\n",
              "0         0       3    male  22.0      1      0   7.2500        5\n",
              "1         1       1  female  38.0      1      0  71.2833        6\n",
              "2         1       3  female  26.0      0      0   7.9250        5\n",
              "3         1       1  female  35.0      1      0  53.1000        5\n",
              "4         0       3    male  35.0      0      0   8.0500        5"
            ]
          },
          "metadata": {
            "tags": []
          },
          "execution_count": 94
        }
      ]
    },
    {
      "cell_type": "code",
      "metadata": {
        "colab": {
          "base_uri": "https://localhost:8080/",
          "height": 173
        },
        "id": "jR2txmoLQPpW",
        "outputId": "a3f08622-2611-4086-ca6b-6d8aa1e5ecf2"
      },
      "source": [
        "#性別と年齢についてのデータを引数に取る関数\n",
        "\n",
        "def child_or_adult(dataset):\n",
        "    #性別と年齢についてのデータを双方の変数に代入\n",
        "    sex, age, Pclass = dataset\n",
        "\n",
        "    #年齢が20歳以上の場合、大人なのでmaleかfemaleを返す。\n",
        "    if (Pclass <= 1 and age > 13):\n",
        "        return sex\n",
        "\n",
        "    #年齢が12歳未満の場合は子供なので、childという値を返す。\n",
        "    else:\n",
        "        return 'not-P1adult'\n",
        "\n",
        " #child_male_femaleというカラムを作成し、データにapply関数を使って先程の変数を適応\n",
        "dataset['child_male_female'] = dataset[['Sex','Age','Pclass']].apply(child_or_adult, axis=1)\n",
        "\n",
        "pd.crosstab(dataset['child_male_female'],dataset['Survived'])"
      ],
      "execution_count": null,
      "outputs": [
        {
          "output_type": "execute_result",
          "data": {
            "text/html": [
              "<div>\n",
              "<style scoped>\n",
              "    .dataframe tbody tr th:only-of-type {\n",
              "        vertical-align: middle;\n",
              "    }\n",
              "\n",
              "    .dataframe tbody tr th {\n",
              "        vertical-align: top;\n",
              "    }\n",
              "\n",
              "    .dataframe thead th {\n",
              "        text-align: right;\n",
              "    }\n",
              "</style>\n",
              "<table border=\"1\" class=\"dataframe\">\n",
              "  <thead>\n",
              "    <tr style=\"text-align: right;\">\n",
              "      <th>Survived</th>\n",
              "      <th>0</th>\n",
              "      <th>1</th>\n",
              "    </tr>\n",
              "    <tr>\n",
              "      <th>child_male_female</th>\n",
              "      <th></th>\n",
              "      <th></th>\n",
              "    </tr>\n",
              "  </thead>\n",
              "  <tbody>\n",
              "    <tr>\n",
              "      <th>female</th>\n",
              "      <td>2</td>\n",
              "      <td>91</td>\n",
              "    </tr>\n",
              "    <tr>\n",
              "      <th>male</th>\n",
              "      <td>77</td>\n",
              "      <td>42</td>\n",
              "    </tr>\n",
              "    <tr>\n",
              "      <th>not-P1adult</th>\n",
              "      <td>470</td>\n",
              "      <td>209</td>\n",
              "    </tr>\n",
              "  </tbody>\n",
              "</table>\n",
              "</div>"
            ],
            "text/plain": [
              "Survived             0    1\n",
              "child_male_female          \n",
              "female               2   91\n",
              "male                77   42\n",
              "not-P1adult        470  209"
            ]
          },
          "metadata": {
            "tags": []
          },
          "execution_count": 95
        }
      ]
    },
    {
      "cell_type": "code",
      "metadata": {
        "colab": {
          "base_uri": "https://localhost:8080/",
          "height": 173
        },
        "id": "ZBASLFuKRCaf",
        "outputId": "2be3817a-c93b-4f7e-a2ae-ea1c68d4af11"
      },
      "source": [
        "#性別と年齢についてのデータを引数に取る関数\n",
        "\n",
        "def child_or_adult(dataset):\n",
        "    #性別と年齢についてのデータを双方の変数に代入\n",
        "    sex, age, Pclass = dataset\n",
        "\n",
        "    #一等の子供以下\n",
        "    if (Pclass <= 1 and age < 13 and age >= 1):\n",
        "        return sex\n",
        "\n",
        "    #それ以外\n",
        "    else:\n",
        "        return 'not-P1child'\n",
        "\n",
        "#child_male_femaleというカラムを作成し、データにapply関数を使って先程の変数を適応\n",
        "dataset['c1_male_female'] = dataset[['Sex','Age','Pclass']].apply(child_or_adult, axis=1)\n",
        "\n",
        "pd.crosstab(dataset['c1_male_female'],dataset['Survived'])"
      ],
      "execution_count": null,
      "outputs": [
        {
          "output_type": "execute_result",
          "data": {
            "text/html": [
              "<div>\n",
              "<style scoped>\n",
              "    .dataframe tbody tr th:only-of-type {\n",
              "        vertical-align: middle;\n",
              "    }\n",
              "\n",
              "    .dataframe tbody tr th {\n",
              "        vertical-align: top;\n",
              "    }\n",
              "\n",
              "    .dataframe thead th {\n",
              "        text-align: right;\n",
              "    }\n",
              "</style>\n",
              "<table border=\"1\" class=\"dataframe\">\n",
              "  <thead>\n",
              "    <tr style=\"text-align: right;\">\n",
              "      <th>Survived</th>\n",
              "      <th>0</th>\n",
              "      <th>1</th>\n",
              "    </tr>\n",
              "    <tr>\n",
              "      <th>c1_male_female</th>\n",
              "      <th></th>\n",
              "      <th></th>\n",
              "    </tr>\n",
              "  </thead>\n",
              "  <tbody>\n",
              "    <tr>\n",
              "      <th>female</th>\n",
              "      <td>1</td>\n",
              "      <td>0</td>\n",
              "    </tr>\n",
              "    <tr>\n",
              "      <th>male</th>\n",
              "      <td>0</td>\n",
              "      <td>2</td>\n",
              "    </tr>\n",
              "    <tr>\n",
              "      <th>not-P1child</th>\n",
              "      <td>548</td>\n",
              "      <td>340</td>\n",
              "    </tr>\n",
              "  </tbody>\n",
              "</table>\n",
              "</div>"
            ],
            "text/plain": [
              "Survived          0    1\n",
              "c1_male_female          \n",
              "female            1    0\n",
              "male              0    2\n",
              "not-P1child     548  340"
            ]
          },
          "metadata": {
            "tags": []
          },
          "execution_count": 96
        }
      ]
    },
    {
      "cell_type": "code",
      "metadata": {
        "colab": {
          "base_uri": "https://localhost:8080/",
          "height": 142
        },
        "id": "rtEtHH7FSONy",
        "outputId": "43d51818-449d-4ead-e4a0-722db7d8eafe"
      },
      "source": [
        "#性別と年齢についてのデータを引数に取る関数\n",
        "\n",
        "def child_or_adult(dataset):\n",
        "    #性別と年齢についてのデータを双方の変数に代入\n",
        "    sex, age, Pclass = dataset\n",
        "\n",
        "    #一等の乳児\n",
        "    if (Pclass <= 1 and age < 1):\n",
        "        return sex\n",
        "\n",
        "    #それ以外\n",
        "    else:\n",
        "        return 'not-P1infant'\n",
        "\n",
        "#child_male_femaleというカラムを作成し、データにapply関数を使って先程の変数を適応\n",
        "dataset['i1_male_female'] = dataset[['Sex','Age','Pclass']].apply(child_or_adult, axis=1)\n",
        "\n",
        "pd.crosstab(dataset['i1_male_female'],dataset['Survived'])"
      ],
      "execution_count": null,
      "outputs": [
        {
          "output_type": "execute_result",
          "data": {
            "text/html": [
              "<div>\n",
              "<style scoped>\n",
              "    .dataframe tbody tr th:only-of-type {\n",
              "        vertical-align: middle;\n",
              "    }\n",
              "\n",
              "    .dataframe tbody tr th {\n",
              "        vertical-align: top;\n",
              "    }\n",
              "\n",
              "    .dataframe thead th {\n",
              "        text-align: right;\n",
              "    }\n",
              "</style>\n",
              "<table border=\"1\" class=\"dataframe\">\n",
              "  <thead>\n",
              "    <tr style=\"text-align: right;\">\n",
              "      <th>Survived</th>\n",
              "      <th>0</th>\n",
              "      <th>1</th>\n",
              "    </tr>\n",
              "    <tr>\n",
              "      <th>i1_male_female</th>\n",
              "      <th></th>\n",
              "      <th></th>\n",
              "    </tr>\n",
              "  </thead>\n",
              "  <tbody>\n",
              "    <tr>\n",
              "      <th>male</th>\n",
              "      <td>0</td>\n",
              "      <td>1</td>\n",
              "    </tr>\n",
              "    <tr>\n",
              "      <th>not-P1infant</th>\n",
              "      <td>549</td>\n",
              "      <td>341</td>\n",
              "    </tr>\n",
              "  </tbody>\n",
              "</table>\n",
              "</div>"
            ],
            "text/plain": [
              "Survived          0    1\n",
              "i1_male_female          \n",
              "male              0    1\n",
              "not-P1infant    549  341"
            ]
          },
          "metadata": {
            "tags": []
          },
          "execution_count": 97
        }
      ]
    },
    {
      "cell_type": "code",
      "metadata": {
        "colab": {
          "base_uri": "https://localhost:8080/",
          "height": 173
        },
        "id": "vY7mnG2rYExX",
        "outputId": "1971b863-63b0-4059-d52d-5d5815528ab4"
      },
      "source": [
        "#性別と年齢についてのデータを引数に取る関数\n",
        "\n",
        "def child_or_adult(dataset):\n",
        "    #性別と年齢についてのデータを双方の変数に代入\n",
        "    sex, age, Pclass = dataset\n",
        "\n",
        "    #2等の大人\n",
        "    if (Pclass < 3 and Pclass > 1 and age >12):\n",
        "        return sex\n",
        "\n",
        "    #それ以外\n",
        "    else:\n",
        "        return 'not-P2adult'\n",
        "\n",
        "#child_male_femaleというカラムを作成し、データにapply関数を使って先程の変数を適応\n",
        "dataset['2a_male_female'] = dataset[['Sex','Age','Pclass']].apply(child_or_adult, axis=1)\n",
        "\n",
        "pd.crosstab(dataset['2a_male_female'],dataset['Survived'])"
      ],
      "execution_count": null,
      "outputs": [
        {
          "output_type": "execute_result",
          "data": {
            "text/html": [
              "<div>\n",
              "<style scoped>\n",
              "    .dataframe tbody tr th:only-of-type {\n",
              "        vertical-align: middle;\n",
              "    }\n",
              "\n",
              "    .dataframe tbody tr th {\n",
              "        vertical-align: top;\n",
              "    }\n",
              "\n",
              "    .dataframe thead th {\n",
              "        text-align: right;\n",
              "    }\n",
              "</style>\n",
              "<table border=\"1\" class=\"dataframe\">\n",
              "  <thead>\n",
              "    <tr style=\"text-align: right;\">\n",
              "      <th>Survived</th>\n",
              "      <th>0</th>\n",
              "      <th>1</th>\n",
              "    </tr>\n",
              "    <tr>\n",
              "      <th>2a_male_female</th>\n",
              "      <th></th>\n",
              "      <th></th>\n",
              "    </tr>\n",
              "  </thead>\n",
              "  <tbody>\n",
              "    <tr>\n",
              "      <th>female</th>\n",
              "      <td>6</td>\n",
              "      <td>62</td>\n",
              "    </tr>\n",
              "    <tr>\n",
              "      <th>male</th>\n",
              "      <td>91</td>\n",
              "      <td>8</td>\n",
              "    </tr>\n",
              "    <tr>\n",
              "      <th>not-P2adult</th>\n",
              "      <td>452</td>\n",
              "      <td>272</td>\n",
              "    </tr>\n",
              "  </tbody>\n",
              "</table>\n",
              "</div>"
            ],
            "text/plain": [
              "Survived          0    1\n",
              "2a_male_female          \n",
              "female            6   62\n",
              "male             91    8\n",
              "not-P2adult     452  272"
            ]
          },
          "metadata": {
            "tags": []
          },
          "execution_count": 98
        }
      ]
    },
    {
      "cell_type": "code",
      "metadata": {
        "colab": {
          "base_uri": "https://localhost:8080/",
          "height": 173
        },
        "id": "-OGXe6DGXfbO",
        "outputId": "527b63c9-080d-4703-ef2a-a10956d4a11f"
      },
      "source": [
        "#性別と年齢についてのデータを引数に取る関数\n",
        "\n",
        "def child_or_adult(dataset):\n",
        "    #性別と年齢についてのデータを双方の変数に代入\n",
        "    sex, age, Pclass = dataset\n",
        "\n",
        "    #2等の子供\n",
        "    if (Pclass <3 and Pclass >1 and age <= 12):\n",
        "        return sex\n",
        "\n",
        "    #それ以外\n",
        "    else:\n",
        "        return 'not-P2child'\n",
        "\n",
        "#child_male_femaleというカラムを作成し、データにapply関数を使って先程の変数を適応\n",
        "dataset['2c_male_female'] = dataset[['Sex','Age','Pclass']].apply(child_or_adult, axis=1)\n",
        "\n",
        "pd.crosstab(dataset['2c_male_female'],dataset['Survived'])"
      ],
      "execution_count": null,
      "outputs": [
        {
          "output_type": "execute_result",
          "data": {
            "text/html": [
              "<div>\n",
              "<style scoped>\n",
              "    .dataframe tbody tr th:only-of-type {\n",
              "        vertical-align: middle;\n",
              "    }\n",
              "\n",
              "    .dataframe tbody tr th {\n",
              "        vertical-align: top;\n",
              "    }\n",
              "\n",
              "    .dataframe thead th {\n",
              "        text-align: right;\n",
              "    }\n",
              "</style>\n",
              "<table border=\"1\" class=\"dataframe\">\n",
              "  <thead>\n",
              "    <tr style=\"text-align: right;\">\n",
              "      <th>Survived</th>\n",
              "      <th>0</th>\n",
              "      <th>1</th>\n",
              "    </tr>\n",
              "    <tr>\n",
              "      <th>2c_male_female</th>\n",
              "      <th></th>\n",
              "      <th></th>\n",
              "    </tr>\n",
              "  </thead>\n",
              "  <tbody>\n",
              "    <tr>\n",
              "      <th>female</th>\n",
              "      <td>0</td>\n",
              "      <td>8</td>\n",
              "    </tr>\n",
              "    <tr>\n",
              "      <th>male</th>\n",
              "      <td>0</td>\n",
              "      <td>9</td>\n",
              "    </tr>\n",
              "    <tr>\n",
              "      <th>not-P2child</th>\n",
              "      <td>549</td>\n",
              "      <td>325</td>\n",
              "    </tr>\n",
              "  </tbody>\n",
              "</table>\n",
              "</div>"
            ],
            "text/plain": [
              "Survived          0    1\n",
              "2c_male_female          \n",
              "female            0    8\n",
              "male              0    9\n",
              "not-P2child     549  325"
            ]
          },
          "metadata": {
            "tags": []
          },
          "execution_count": 99
        }
      ]
    },
    {
      "cell_type": "code",
      "metadata": {
        "colab": {
          "base_uri": "https://localhost:8080/",
          "height": 173
        },
        "id": "icx7gWJ7TtWX",
        "outputId": "e462f1ee-fd3e-4793-fa21-90bcbb4568a5"
      },
      "source": [
        "#性別と年齢についてのデータを引数に取る関数\n",
        "\n",
        "def child_or_adult(dataset):\n",
        "    #性別と年齢についてのデータを双方の変数に代入\n",
        "    sex, age, Pclass = dataset\n",
        "\n",
        "    #三等の大人\n",
        "    if (Pclass >= 3 and age >= 13):\n",
        "        return sex\n",
        "\n",
        "    #それ以外\n",
        "    else:\n",
        "        return 'not-P3adult'\n",
        "\n",
        "#child_male_femaleというカラムを作成し、データにapply関数を使って先程の変数を適応\n",
        "dataset['3a_male_female'] = dataset[['Sex','Age','Pclass']].apply(child_or_adult, axis=1)\n",
        "\n",
        "pd.crosstab(dataset['3a_male_female'],dataset['Survived'])"
      ],
      "execution_count": null,
      "outputs": [
        {
          "output_type": "execute_result",
          "data": {
            "text/html": [
              "<div>\n",
              "<style scoped>\n",
              "    .dataframe tbody tr th:only-of-type {\n",
              "        vertical-align: middle;\n",
              "    }\n",
              "\n",
              "    .dataframe tbody tr th {\n",
              "        vertical-align: top;\n",
              "    }\n",
              "\n",
              "    .dataframe thead th {\n",
              "        text-align: right;\n",
              "    }\n",
              "</style>\n",
              "<table border=\"1\" class=\"dataframe\">\n",
              "  <thead>\n",
              "    <tr style=\"text-align: right;\">\n",
              "      <th>Survived</th>\n",
              "      <th>0</th>\n",
              "      <th>1</th>\n",
              "    </tr>\n",
              "    <tr>\n",
              "      <th>3a_male_female</th>\n",
              "      <th></th>\n",
              "      <th></th>\n",
              "    </tr>\n",
              "  </thead>\n",
              "  <tbody>\n",
              "    <tr>\n",
              "      <th>female</th>\n",
              "      <td>60</td>\n",
              "      <td>61</td>\n",
              "    </tr>\n",
              "    <tr>\n",
              "      <th>male</th>\n",
              "      <td>284</td>\n",
              "      <td>38</td>\n",
              "    </tr>\n",
              "    <tr>\n",
              "      <th>not-P3adult</th>\n",
              "      <td>205</td>\n",
              "      <td>243</td>\n",
              "    </tr>\n",
              "  </tbody>\n",
              "</table>\n",
              "</div>"
            ],
            "text/plain": [
              "Survived          0    1\n",
              "3a_male_female          \n",
              "female           60   61\n",
              "male            284   38\n",
              "not-P3adult     205  243"
            ]
          },
          "metadata": {
            "tags": []
          },
          "execution_count": 100
        }
      ]
    },
    {
      "cell_type": "code",
      "metadata": {
        "colab": {
          "base_uri": "https://localhost:8080/",
          "height": 173
        },
        "id": "JqbrAcsZSn8S",
        "outputId": "d612ce4c-b7a4-4324-d5a1-dd575f5e4426"
      },
      "source": [
        "#性別と年齢についてのデータを引数に取る関数\n",
        "\n",
        "def child_or_adult(dataset):\n",
        "    #性別と年齢についてのデータを双方の変数に代入\n",
        "    sex, age, Pclass = dataset\n",
        "\n",
        "    #三等の子供以下\n",
        "    if (Pclass >= 3 and age <= 12):\n",
        "        return sex\n",
        "\n",
        "    #それ以外\n",
        "    else:\n",
        "        return 'not-P3child'\n",
        "\n",
        "#child_male_femaleというカラムを作成し、データにapply関数を使って先程の変数を適応\n",
        "dataset['3c_male_female'] = dataset[['Sex','Age','Pclass']].apply(child_or_adult, axis=1)\n",
        "\n",
        "pd.crosstab(dataset['3c_male_female'],dataset['Survived'])"
      ],
      "execution_count": null,
      "outputs": [
        {
          "output_type": "execute_result",
          "data": {
            "text/html": [
              "<div>\n",
              "<style scoped>\n",
              "    .dataframe tbody tr th:only-of-type {\n",
              "        vertical-align: middle;\n",
              "    }\n",
              "\n",
              "    .dataframe tbody tr th {\n",
              "        vertical-align: top;\n",
              "    }\n",
              "\n",
              "    .dataframe thead th {\n",
              "        text-align: right;\n",
              "    }\n",
              "</style>\n",
              "<table border=\"1\" class=\"dataframe\">\n",
              "  <thead>\n",
              "    <tr style=\"text-align: right;\">\n",
              "      <th>Survived</th>\n",
              "      <th>0</th>\n",
              "      <th>1</th>\n",
              "    </tr>\n",
              "    <tr>\n",
              "      <th>3c_male_female</th>\n",
              "      <th></th>\n",
              "      <th></th>\n",
              "    </tr>\n",
              "  </thead>\n",
              "  <tbody>\n",
              "    <tr>\n",
              "      <th>female</th>\n",
              "      <td>12</td>\n",
              "      <td>11</td>\n",
              "    </tr>\n",
              "    <tr>\n",
              "      <th>male</th>\n",
              "      <td>16</td>\n",
              "      <td>9</td>\n",
              "    </tr>\n",
              "    <tr>\n",
              "      <th>not-P3child</th>\n",
              "      <td>521</td>\n",
              "      <td>322</td>\n",
              "    </tr>\n",
              "  </tbody>\n",
              "</table>\n",
              "</div>"
            ],
            "text/plain": [
              "Survived          0    1\n",
              "3c_male_female          \n",
              "female           12   11\n",
              "male             16    9\n",
              "not-P3child     521  322"
            ]
          },
          "metadata": {
            "tags": []
          },
          "execution_count": 101
        }
      ]
    },
    {
      "cell_type": "code",
      "metadata": {
        "colab": {
          "base_uri": "https://localhost:8080/",
          "height": 111
        },
        "id": "TAhW-0H7UGyD",
        "outputId": "ae8c2f07-d748-458d-d3af-08c3fb7db33b"
      },
      "source": [
        "#性別と年齢についてのデータを引数に取る関数\n",
        "\n",
        "def child_or_adult(dataset):\n",
        "    #性別と年齢についてのデータを双方の変数に代入\n",
        "    sex, age, Pclass = dataset\n",
        "\n",
        "    #三等の乳児\n",
        "    if (Pclass >=3 and age <= 0):\n",
        "        return sex\n",
        "\n",
        "    #それ以外\n",
        "    else:\n",
        "        return 'not-P3infants'\n",
        "\n",
        "#child_male_femaleというカラムを作成し、データにapply関数を使って先程の変数を適応\n",
        "dataset['3i_male_female'] = dataset[['Sex','Age','Pclass']].apply(child_or_adult, axis=1)\n",
        "\n",
        "pd.crosstab(dataset['3i_male_female'],dataset['Survived'])"
      ],
      "execution_count": null,
      "outputs": [
        {
          "output_type": "execute_result",
          "data": {
            "text/html": [
              "<div>\n",
              "<style scoped>\n",
              "    .dataframe tbody tr th:only-of-type {\n",
              "        vertical-align: middle;\n",
              "    }\n",
              "\n",
              "    .dataframe tbody tr th {\n",
              "        vertical-align: top;\n",
              "    }\n",
              "\n",
              "    .dataframe thead th {\n",
              "        text-align: right;\n",
              "    }\n",
              "</style>\n",
              "<table border=\"1\" class=\"dataframe\">\n",
              "  <thead>\n",
              "    <tr style=\"text-align: right;\">\n",
              "      <th>Survived</th>\n",
              "      <th>0</th>\n",
              "      <th>1</th>\n",
              "    </tr>\n",
              "    <tr>\n",
              "      <th>3i_male_female</th>\n",
              "      <th></th>\n",
              "      <th></th>\n",
              "    </tr>\n",
              "  </thead>\n",
              "  <tbody>\n",
              "    <tr>\n",
              "      <th>not-P3infants</th>\n",
              "      <td>549</td>\n",
              "      <td>342</td>\n",
              "    </tr>\n",
              "  </tbody>\n",
              "</table>\n",
              "</div>"
            ],
            "text/plain": [
              "Survived          0    1\n",
              "3i_male_female          \n",
              "not-P3infants   549  342"
            ]
          },
          "metadata": {
            "tags": []
          },
          "execution_count": 102
        }
      ]
    },
    {
      "cell_type": "code",
      "metadata": {
        "id": "0UJxSwWfCBzR"
      },
      "source": [
        "#性別と年齢についてのデータを引数に取る関数\n",
        "\n",
        "def child_or_adult(dataset):\n",
        "    #性別と年齢についてのデータを双方の変数に代入\n",
        "    sex, age = dataset\n",
        "\n",
        "    #年齢が20歳以上の場合、大人なのでmaleかfemaleを返す。\n",
        "    if (age > 13):\n",
        "        return sex\n",
        "\n",
        "    #年齢が12歳未満の場合は子供なので、childという値を返す。\n",
        "    else:\n",
        "        return 'child'"
      ],
      "execution_count": null,
      "outputs": []
    },
    {
      "cell_type": "code",
      "metadata": {
        "id": "y4f6PxjSGPP2"
      },
      "source": [
        "#child_male_femaleというカラムを作成し、データにapply関数を使って先程の変数を適応\n",
        "dataset['child_male_female'] = dataset[['Sex','Age']].apply(child_or_adult, axis=1)"
      ],
      "execution_count": null,
      "outputs": []
    },
    {
      "cell_type": "code",
      "metadata": {
        "colab": {
          "base_uri": "https://localhost:8080/",
          "height": 173
        },
        "id": "Pr9SHHjMGj-p",
        "outputId": "26fd53a5-7907-4d58-9bec-e7e51366dba0"
      },
      "source": [
        "pd.crosstab(dataset['child_male_female'],dataset['Survived'])"
      ],
      "execution_count": null,
      "outputs": [
        {
          "output_type": "execute_result",
          "data": {
            "text/html": [
              "<div>\n",
              "<style scoped>\n",
              "    .dataframe tbody tr th:only-of-type {\n",
              "        vertical-align: middle;\n",
              "    }\n",
              "\n",
              "    .dataframe tbody tr th {\n",
              "        vertical-align: top;\n",
              "    }\n",
              "\n",
              "    .dataframe thead th {\n",
              "        text-align: right;\n",
              "    }\n",
              "</style>\n",
              "<table border=\"1\" class=\"dataframe\">\n",
              "  <thead>\n",
              "    <tr style=\"text-align: right;\">\n",
              "      <th>Survived</th>\n",
              "      <th>0</th>\n",
              "      <th>1</th>\n",
              "    </tr>\n",
              "    <tr>\n",
              "      <th>child_male_female</th>\n",
              "      <th></th>\n",
              "      <th></th>\n",
              "    </tr>\n",
              "  </thead>\n",
              "  <tbody>\n",
              "    <tr>\n",
              "      <th>child</th>\n",
              "      <td>29</td>\n",
              "      <td>42</td>\n",
              "    </tr>\n",
              "    <tr>\n",
              "      <th>female</th>\n",
              "      <td>68</td>\n",
              "      <td>212</td>\n",
              "    </tr>\n",
              "    <tr>\n",
              "      <th>male</th>\n",
              "      <td>452</td>\n",
              "      <td>88</td>\n",
              "    </tr>\n",
              "  </tbody>\n",
              "</table>\n",
              "</div>"
            ],
            "text/plain": [
              "Survived             0    1\n",
              "child_male_female          \n",
              "child               29   42\n",
              "female              68  212\n",
              "male               452   88"
            ]
          },
          "metadata": {
            "tags": []
          },
          "execution_count": 105
        }
      ]
    },
    {
      "cell_type": "code",
      "metadata": {
        "id": "7AwHVskkIkIT"
      },
      "source": [
        "def child_or_adult(dataset):\n",
        "    #性別と年齢についてのデータを双方の変数に代入\n",
        "    sex, age = dataset\n",
        "    #年齢が13歳未満の場合、子供なのでmaleかfemaleを返す。\n",
        "    if (age < 13):\n",
        "        return sex\n",
        "\n",
        "    #年齢が13以上の場合は大人\n",
        "    else:\n",
        "        return 'adult'"
      ],
      "execution_count": null,
      "outputs": []
    },
    {
      "cell_type": "code",
      "metadata": {
        "id": "EPR_Ry18Ku9j"
      },
      "source": [
        "dataset['adult_male_female'] = dataset[['Sex','Age']].apply(child_or_adult, axis=1)"
      ],
      "execution_count": null,
      "outputs": []
    },
    {
      "cell_type": "code",
      "metadata": {
        "colab": {
          "base_uri": "https://localhost:8080/",
          "height": 173
        },
        "id": "S_mZ0t0kK7bx",
        "outputId": "64a51264-bf5d-4953-d639-ff65fbcb7ea0"
      },
      "source": [
        "pd.crosstab(dataset['adult_male_female'],dataset['Survived'])"
      ],
      "execution_count": null,
      "outputs": [
        {
          "output_type": "execute_result",
          "data": {
            "text/html": [
              "<div>\n",
              "<style scoped>\n",
              "    .dataframe tbody tr th:only-of-type {\n",
              "        vertical-align: middle;\n",
              "    }\n",
              "\n",
              "    .dataframe tbody tr th {\n",
              "        vertical-align: top;\n",
              "    }\n",
              "\n",
              "    .dataframe thead th {\n",
              "        text-align: right;\n",
              "    }\n",
              "</style>\n",
              "<table border=\"1\" class=\"dataframe\">\n",
              "  <thead>\n",
              "    <tr style=\"text-align: right;\">\n",
              "      <th>Survived</th>\n",
              "      <th>0</th>\n",
              "      <th>1</th>\n",
              "    </tr>\n",
              "    <tr>\n",
              "      <th>adult_male_female</th>\n",
              "      <th></th>\n",
              "      <th></th>\n",
              "    </tr>\n",
              "  </thead>\n",
              "  <tbody>\n",
              "    <tr>\n",
              "      <th>adult</th>\n",
              "      <td>520</td>\n",
              "      <td>302</td>\n",
              "    </tr>\n",
              "    <tr>\n",
              "      <th>female</th>\n",
              "      <td>13</td>\n",
              "      <td>19</td>\n",
              "    </tr>\n",
              "    <tr>\n",
              "      <th>male</th>\n",
              "      <td>16</td>\n",
              "      <td>21</td>\n",
              "    </tr>\n",
              "  </tbody>\n",
              "</table>\n",
              "</div>"
            ],
            "text/plain": [
              "Survived             0    1\n",
              "adult_male_female          \n",
              "adult              520  302\n",
              "female              13   19\n",
              "male                16   21"
            ]
          },
          "metadata": {
            "tags": []
          },
          "execution_count": 108
        }
      ]
    },
    {
      "cell_type": "code",
      "metadata": {
        "id": "yyNTYkeYLbKS"
      },
      "source": [
        "def infants_or_adult(dataset):\n",
        "    #性別と年齢についてのデータを双方の変数に代入\n",
        "    sex, age = dataset\n",
        "\n",
        "\n",
        "    #年齢が1歳未満の場合、乳児なのでmaleかfemaleを返す。\n",
        "    if (age < 1):\n",
        "        return sex\n",
        "\n",
        "    #年齢が1歳以上の場合は赤ちゃんじゃない\n",
        "    else:\n",
        "        return 'notbaby'"
      ],
      "execution_count": null,
      "outputs": []
    },
    {
      "cell_type": "code",
      "metadata": {
        "id": "r2kjiKf2NLrh"
      },
      "source": [
        "dataset['notbaby_male_female'] = dataset[['Sex','Age']].apply(infants_or_adult, axis=1)"
      ],
      "execution_count": null,
      "outputs": []
    },
    {
      "cell_type": "code",
      "metadata": {
        "colab": {
          "base_uri": "https://localhost:8080/",
          "height": 173
        },
        "id": "tpSMB1C7NhUk",
        "outputId": "0d71c36b-2ce5-44ce-8d0f-a42773bd0d7f"
      },
      "source": [
        "pd.crosstab(dataset['notbaby_male_female'],dataset['Survived'])"
      ],
      "execution_count": null,
      "outputs": [
        {
          "output_type": "execute_result",
          "data": {
            "text/html": [
              "<div>\n",
              "<style scoped>\n",
              "    .dataframe tbody tr th:only-of-type {\n",
              "        vertical-align: middle;\n",
              "    }\n",
              "\n",
              "    .dataframe tbody tr th {\n",
              "        vertical-align: top;\n",
              "    }\n",
              "\n",
              "    .dataframe thead th {\n",
              "        text-align: right;\n",
              "    }\n",
              "</style>\n",
              "<table border=\"1\" class=\"dataframe\">\n",
              "  <thead>\n",
              "    <tr style=\"text-align: right;\">\n",
              "      <th>Survived</th>\n",
              "      <th>0</th>\n",
              "      <th>1</th>\n",
              "    </tr>\n",
              "    <tr>\n",
              "      <th>notbaby_male_female</th>\n",
              "      <th></th>\n",
              "      <th></th>\n",
              "    </tr>\n",
              "  </thead>\n",
              "  <tbody>\n",
              "    <tr>\n",
              "      <th>female</th>\n",
              "      <td>0</td>\n",
              "      <td>2</td>\n",
              "    </tr>\n",
              "    <tr>\n",
              "      <th>male</th>\n",
              "      <td>0</td>\n",
              "      <td>5</td>\n",
              "    </tr>\n",
              "    <tr>\n",
              "      <th>notbaby</th>\n",
              "      <td>549</td>\n",
              "      <td>335</td>\n",
              "    </tr>\n",
              "  </tbody>\n",
              "</table>\n",
              "</div>"
            ],
            "text/plain": [
              "Survived               0    1\n",
              "notbaby_male_female          \n",
              "female                 0    2\n",
              "male                   0    5\n",
              "notbaby              549  335"
            ]
          },
          "metadata": {
            "tags": []
          },
          "execution_count": 111
        }
      ]
    },
    {
      "cell_type": "code",
      "metadata": {
        "id": "35BpZdQ0fEA_"
      },
      "source": [
        "# datasetのsexとembarkedをダミー変数に変換してdataset2に代入する\n",
        "dataset2 = pd.get_dummies(data=dataset, columns=['Sex', 'Embarked'])"
      ],
      "execution_count": null,
      "outputs": []
    },
    {
      "cell_type": "code",
      "metadata": {
        "colab": {
          "base_uri": "https://localhost:8080/",
          "height": 224
        },
        "id": "vbB7n6VBOObN",
        "outputId": "a39ae275-c368-4653-e3a7-bee751efc66c"
      },
      "source": [
        "# dataset2のデータの最初の5行を表示（以下、作成）\n",
        "dataset2.head()"
      ],
      "execution_count": null,
      "outputs": [
        {
          "output_type": "execute_result",
          "data": {
            "text/html": [
              "<div>\n",
              "<style scoped>\n",
              "    .dataframe tbody tr th:only-of-type {\n",
              "        vertical-align: middle;\n",
              "    }\n",
              "\n",
              "    .dataframe tbody tr th {\n",
              "        vertical-align: top;\n",
              "    }\n",
              "\n",
              "    .dataframe thead th {\n",
              "        text-align: right;\n",
              "    }\n",
              "</style>\n",
              "<table border=\"1\" class=\"dataframe\">\n",
              "  <thead>\n",
              "    <tr style=\"text-align: right;\">\n",
              "      <th></th>\n",
              "      <th>Survived</th>\n",
              "      <th>Pclass</th>\n",
              "      <th>Age</th>\n",
              "      <th>SibSp</th>\n",
              "      <th>Parch</th>\n",
              "      <th>Fare</th>\n",
              "      <th>child_male_female</th>\n",
              "      <th>c1_male_female</th>\n",
              "      <th>i1_male_female</th>\n",
              "      <th>2a_male_female</th>\n",
              "      <th>2c_male_female</th>\n",
              "      <th>3a_male_female</th>\n",
              "      <th>3c_male_female</th>\n",
              "      <th>3i_male_female</th>\n",
              "      <th>adult_male_female</th>\n",
              "      <th>notbaby_male_female</th>\n",
              "      <th>Sex_female</th>\n",
              "      <th>Sex_male</th>\n",
              "      <th>Embarked_5</th>\n",
              "      <th>Embarked_6</th>\n",
              "      <th>Embarked_7</th>\n",
              "    </tr>\n",
              "  </thead>\n",
              "  <tbody>\n",
              "    <tr>\n",
              "      <th>0</th>\n",
              "      <td>0</td>\n",
              "      <td>3</td>\n",
              "      <td>22.0</td>\n",
              "      <td>1</td>\n",
              "      <td>0</td>\n",
              "      <td>7.2500</td>\n",
              "      <td>male</td>\n",
              "      <td>not-P1child</td>\n",
              "      <td>not-P1infant</td>\n",
              "      <td>not-P2adult</td>\n",
              "      <td>not-P2child</td>\n",
              "      <td>male</td>\n",
              "      <td>not-P3child</td>\n",
              "      <td>not-P3infants</td>\n",
              "      <td>adult</td>\n",
              "      <td>notbaby</td>\n",
              "      <td>0</td>\n",
              "      <td>1</td>\n",
              "      <td>1</td>\n",
              "      <td>0</td>\n",
              "      <td>0</td>\n",
              "    </tr>\n",
              "    <tr>\n",
              "      <th>1</th>\n",
              "      <td>1</td>\n",
              "      <td>1</td>\n",
              "      <td>38.0</td>\n",
              "      <td>1</td>\n",
              "      <td>0</td>\n",
              "      <td>71.2833</td>\n",
              "      <td>female</td>\n",
              "      <td>not-P1child</td>\n",
              "      <td>not-P1infant</td>\n",
              "      <td>not-P2adult</td>\n",
              "      <td>not-P2child</td>\n",
              "      <td>not-P3adult</td>\n",
              "      <td>not-P3child</td>\n",
              "      <td>not-P3infants</td>\n",
              "      <td>adult</td>\n",
              "      <td>notbaby</td>\n",
              "      <td>1</td>\n",
              "      <td>0</td>\n",
              "      <td>0</td>\n",
              "      <td>1</td>\n",
              "      <td>0</td>\n",
              "    </tr>\n",
              "    <tr>\n",
              "      <th>2</th>\n",
              "      <td>1</td>\n",
              "      <td>3</td>\n",
              "      <td>26.0</td>\n",
              "      <td>0</td>\n",
              "      <td>0</td>\n",
              "      <td>7.9250</td>\n",
              "      <td>female</td>\n",
              "      <td>not-P1child</td>\n",
              "      <td>not-P1infant</td>\n",
              "      <td>not-P2adult</td>\n",
              "      <td>not-P2child</td>\n",
              "      <td>female</td>\n",
              "      <td>not-P3child</td>\n",
              "      <td>not-P3infants</td>\n",
              "      <td>adult</td>\n",
              "      <td>notbaby</td>\n",
              "      <td>1</td>\n",
              "      <td>0</td>\n",
              "      <td>1</td>\n",
              "      <td>0</td>\n",
              "      <td>0</td>\n",
              "    </tr>\n",
              "    <tr>\n",
              "      <th>3</th>\n",
              "      <td>1</td>\n",
              "      <td>1</td>\n",
              "      <td>35.0</td>\n",
              "      <td>1</td>\n",
              "      <td>0</td>\n",
              "      <td>53.1000</td>\n",
              "      <td>female</td>\n",
              "      <td>not-P1child</td>\n",
              "      <td>not-P1infant</td>\n",
              "      <td>not-P2adult</td>\n",
              "      <td>not-P2child</td>\n",
              "      <td>not-P3adult</td>\n",
              "      <td>not-P3child</td>\n",
              "      <td>not-P3infants</td>\n",
              "      <td>adult</td>\n",
              "      <td>notbaby</td>\n",
              "      <td>1</td>\n",
              "      <td>0</td>\n",
              "      <td>1</td>\n",
              "      <td>0</td>\n",
              "      <td>0</td>\n",
              "    </tr>\n",
              "    <tr>\n",
              "      <th>4</th>\n",
              "      <td>0</td>\n",
              "      <td>3</td>\n",
              "      <td>35.0</td>\n",
              "      <td>0</td>\n",
              "      <td>0</td>\n",
              "      <td>8.0500</td>\n",
              "      <td>male</td>\n",
              "      <td>not-P1child</td>\n",
              "      <td>not-P1infant</td>\n",
              "      <td>not-P2adult</td>\n",
              "      <td>not-P2child</td>\n",
              "      <td>male</td>\n",
              "      <td>not-P3child</td>\n",
              "      <td>not-P3infants</td>\n",
              "      <td>adult</td>\n",
              "      <td>notbaby</td>\n",
              "      <td>0</td>\n",
              "      <td>1</td>\n",
              "      <td>1</td>\n",
              "      <td>0</td>\n",
              "      <td>0</td>\n",
              "    </tr>\n",
              "  </tbody>\n",
              "</table>\n",
              "</div>"
            ],
            "text/plain": [
              "   Survived  Pclass   Age  SibSp  Parch     Fare child_male_female  \\\n",
              "0         0       3  22.0      1      0   7.2500              male   \n",
              "1         1       1  38.0      1      0  71.2833            female   \n",
              "2         1       3  26.0      0      0   7.9250            female   \n",
              "3         1       1  35.0      1      0  53.1000            female   \n",
              "4         0       3  35.0      0      0   8.0500              male   \n",
              "\n",
              "  c1_male_female i1_male_female 2a_male_female 2c_male_female 3a_male_female  \\\n",
              "0    not-P1child   not-P1infant    not-P2adult    not-P2child           male   \n",
              "1    not-P1child   not-P1infant    not-P2adult    not-P2child    not-P3adult   \n",
              "2    not-P1child   not-P1infant    not-P2adult    not-P2child         female   \n",
              "3    not-P1child   not-P1infant    not-P2adult    not-P2child    not-P3adult   \n",
              "4    not-P1child   not-P1infant    not-P2adult    not-P2child           male   \n",
              "\n",
              "  3c_male_female 3i_male_female adult_male_female notbaby_male_female  \\\n",
              "0    not-P3child  not-P3infants             adult             notbaby   \n",
              "1    not-P3child  not-P3infants             adult             notbaby   \n",
              "2    not-P3child  not-P3infants             adult             notbaby   \n",
              "3    not-P3child  not-P3infants             adult             notbaby   \n",
              "4    not-P3child  not-P3infants             adult             notbaby   \n",
              "\n",
              "   Sex_female  Sex_male  Embarked_5  Embarked_6  Embarked_7  \n",
              "0           0         1           1           0           0  \n",
              "1           1         0           0           1           0  \n",
              "2           1         0           1           0           0  \n",
              "3           1         0           1           0           0  \n",
              "4           0         1           1           0           0  "
            ]
          },
          "metadata": {
            "tags": []
          },
          "execution_count": 113
        }
      ]
    },
    {
      "cell_type": "code",
      "metadata": {
        "id": "B40-m1-xOQyI",
        "colab": {
          "base_uri": "https://localhost:8080/"
        },
        "outputId": "628c8404-0c65-4ad9-fea0-1c000cf427b8"
      },
      "source": [
        "#4. 目的変数と説明変数の選択\n",
        "#ここでは、以下の列を使用します。\n",
        "\n",
        "#目的変数: survived 説明変数: それ以外 列の除外には drop を使います。 データフレーム.drop(columns=除外したい列名)\n",
        "Y=np.array(dataset2[\"Survived\"])\n",
        "X=np.array(dataset2.drop(columns=[\"Survived\"]))\n",
        "\n",
        "# 形状を確認\n",
        "print(\"Y=\", Y.shape, \"X=\", X.shape)\n"
      ],
      "execution_count": null,
      "outputs": [
        {
          "output_type": "stream",
          "text": [
            "Y= (891,) X= (891, 20)\n"
          ],
          "name": "stdout"
        }
      ]
    },
    {
      "cell_type": "code",
      "metadata": {
        "id": "vgNzL2QaOUHk"
      },
      "source": [
        "#5. データの分割\n",
        "#ここではホールドアウト法でデータを分割します\n",
        "\n",
        "# X と Y を 機械学習用データとテストデータに7:3に分ける(X_train, X_test, Y_train, Y_test)\n",
        "X_train, X_test, Y_train, Y_test = train_test_split(X, Y, test_size=0.3, random_state=0)\n",
        "\n",
        "# 機械学習用データを、学習データと検証データに7:3に分ける(X_train, X_valid, Y_train, Y_valid)\n",
        "X_train, X_valid, Y_train, Y_valid = train_test_split(X_train, Y_train, test_size=0.3, random_state=0)"
      ],
      "execution_count": null,
      "outputs": []
    },
    {
      "cell_type": "code",
      "metadata": {
        "colab": {
          "base_uri": "https://localhost:8080/"
        },
        "id": "CL66FRZKfPg5",
        "outputId": "30ae35eb-1304-4a0e-d09d-770e3e0695e9"
      },
      "source": [
        "# 形状を確認:X_train, X_valid, X_test, Y_train, Y_valid, Y_test（以下、作成）\n",
        "print(\"Y_train=\", Y_train.shape, \", X_train=\", X_train.shape)\n",
        "print(\"Y_valid=\", Y_valid.shape, \", X_valid=\", X_valid.shape)\n",
        "print(\"Y_test=\", Y_test.shape, \", X_test=\", X_test.shape)"
      ],
      "execution_count": null,
      "outputs": [
        {
          "output_type": "stream",
          "text": [
            "Y_train= (436,) , X_train= (436, 20)\n",
            "Y_valid= (187,) , X_valid= (187, 20)\n",
            "Y_test= (268,) , X_test= (268, 20)\n"
          ],
          "name": "stdout"
        }
      ]
    },
    {
      "cell_type": "code",
      "metadata": {
        "id": "qFYGTZjyf2ck"
      },
      "source": [
        "#6. モデルの選択\n",
        "#ロジスティック回帰と決定木、ランダムフォレスト、SVM(ない）の３つのモデルを作成して比較します\n",
        "# 必要なライブラリのインポート\n",
        "from sklearn.linear_model import LogisticRegression\n",
        "from sklearn.tree import DecisionTreeClassifier\n",
        "from sklearn.ensemble import RandomForestClassifier\n",
        "from sklearn.svm import SVC\n",
        "from sklearn.metrics import f1_score\n",
        "from sklearn.metrics import classification_report\n",
        "from sklearn.metrics import mean_squared_error"
      ],
      "execution_count": null,
      "outputs": []
    },
    {
      "cell_type": "code",
      "metadata": {
        "id": "m7EIdhg_f9Pb",
        "colab": {
          "base_uri": "https://localhost:8080/",
          "height": 358
        },
        "outputId": "0392463d-869b-4688-f6b1-e646e2aca471"
      },
      "source": [
        "# ロジスティック回帰:警告がでるため「solver='lbfgs'」を与えている\n",
        "logistic_model = LogisticRegression(solver='lbfgs', multi_class='multinomial', max_iter=1000)\n",
        "logistic_model.fit(X_train, Y_train)\n",
        "Y_pred = logistic_model.predict(X_valid)"
      ],
      "execution_count": null,
      "outputs": [
        {
          "output_type": "error",
          "ename": "ValueError",
          "evalue": "ignored",
          "traceback": [
            "\u001b[0;31m---------------------------------------------------------------------------\u001b[0m",
            "\u001b[0;31mValueError\u001b[0m                                Traceback (most recent call last)",
            "\u001b[0;32m<ipython-input-118-7a9e424c6883>\u001b[0m in \u001b[0;36m<module>\u001b[0;34m()\u001b[0m\n\u001b[1;32m      1\u001b[0m \u001b[0;31m# ロジスティック回帰:警告がでるため「solver='lbfgs'」を与えている\u001b[0m\u001b[0;34m\u001b[0m\u001b[0;34m\u001b[0m\u001b[0;34m\u001b[0m\u001b[0m\n\u001b[1;32m      2\u001b[0m \u001b[0mlogistic_model\u001b[0m \u001b[0;34m=\u001b[0m \u001b[0mLogisticRegression\u001b[0m\u001b[0;34m(\u001b[0m\u001b[0msolver\u001b[0m\u001b[0;34m=\u001b[0m\u001b[0;34m'lbfgs'\u001b[0m\u001b[0;34m,\u001b[0m \u001b[0mmulti_class\u001b[0m\u001b[0;34m=\u001b[0m\u001b[0;34m'multinomial'\u001b[0m\u001b[0;34m,\u001b[0m \u001b[0mmax_iter\u001b[0m\u001b[0;34m=\u001b[0m\u001b[0;36m1000\u001b[0m\u001b[0;34m)\u001b[0m\u001b[0;34m\u001b[0m\u001b[0;34m\u001b[0m\u001b[0m\n\u001b[0;32m----> 3\u001b[0;31m \u001b[0mlogistic_model\u001b[0m\u001b[0;34m.\u001b[0m\u001b[0mfit\u001b[0m\u001b[0;34m(\u001b[0m\u001b[0mX_train\u001b[0m\u001b[0;34m,\u001b[0m \u001b[0mY_train\u001b[0m\u001b[0;34m)\u001b[0m\u001b[0;34m\u001b[0m\u001b[0;34m\u001b[0m\u001b[0m\n\u001b[0m\u001b[1;32m      4\u001b[0m \u001b[0mY_pred\u001b[0m \u001b[0;34m=\u001b[0m \u001b[0mlogistic_model\u001b[0m\u001b[0;34m.\u001b[0m\u001b[0mpredict\u001b[0m\u001b[0;34m(\u001b[0m\u001b[0mX_valid\u001b[0m\u001b[0;34m)\u001b[0m\u001b[0;34m\u001b[0m\u001b[0;34m\u001b[0m\u001b[0m\n",
            "\u001b[0;32m/usr/local/lib/python3.7/dist-packages/sklearn/linear_model/_logistic.py\u001b[0m in \u001b[0;36mfit\u001b[0;34m(self, X, y, sample_weight)\u001b[0m\n\u001b[1;32m   1525\u001b[0m \u001b[0;34m\u001b[0m\u001b[0m\n\u001b[1;32m   1526\u001b[0m         X, y = check_X_y(X, y, accept_sparse='csr', dtype=_dtype, order=\"C\",\n\u001b[0;32m-> 1527\u001b[0;31m                          accept_large_sparse=solver != 'liblinear')\n\u001b[0m\u001b[1;32m   1528\u001b[0m         \u001b[0mcheck_classification_targets\u001b[0m\u001b[0;34m(\u001b[0m\u001b[0my\u001b[0m\u001b[0;34m)\u001b[0m\u001b[0;34m\u001b[0m\u001b[0;34m\u001b[0m\u001b[0m\n\u001b[1;32m   1529\u001b[0m         \u001b[0mself\u001b[0m\u001b[0;34m.\u001b[0m\u001b[0mclasses_\u001b[0m \u001b[0;34m=\u001b[0m \u001b[0mnp\u001b[0m\u001b[0;34m.\u001b[0m\u001b[0munique\u001b[0m\u001b[0;34m(\u001b[0m\u001b[0my\u001b[0m\u001b[0;34m)\u001b[0m\u001b[0;34m\u001b[0m\u001b[0;34m\u001b[0m\u001b[0m\n",
            "\u001b[0;32m/usr/local/lib/python3.7/dist-packages/sklearn/utils/validation.py\u001b[0m in \u001b[0;36mcheck_X_y\u001b[0;34m(X, y, accept_sparse, accept_large_sparse, dtype, order, copy, force_all_finite, ensure_2d, allow_nd, multi_output, ensure_min_samples, ensure_min_features, y_numeric, warn_on_dtype, estimator)\u001b[0m\n\u001b[1;32m    753\u001b[0m                     \u001b[0mensure_min_features\u001b[0m\u001b[0;34m=\u001b[0m\u001b[0mensure_min_features\u001b[0m\u001b[0;34m,\u001b[0m\u001b[0;34m\u001b[0m\u001b[0;34m\u001b[0m\u001b[0m\n\u001b[1;32m    754\u001b[0m                     \u001b[0mwarn_on_dtype\u001b[0m\u001b[0;34m=\u001b[0m\u001b[0mwarn_on_dtype\u001b[0m\u001b[0;34m,\u001b[0m\u001b[0;34m\u001b[0m\u001b[0;34m\u001b[0m\u001b[0m\n\u001b[0;32m--> 755\u001b[0;31m                     estimator=estimator)\n\u001b[0m\u001b[1;32m    756\u001b[0m     \u001b[0;32mif\u001b[0m \u001b[0mmulti_output\u001b[0m\u001b[0;34m:\u001b[0m\u001b[0;34m\u001b[0m\u001b[0;34m\u001b[0m\u001b[0m\n\u001b[1;32m    757\u001b[0m         y = check_array(y, 'csr', force_all_finite=True, ensure_2d=False,\n",
            "\u001b[0;32m/usr/local/lib/python3.7/dist-packages/sklearn/utils/validation.py\u001b[0m in \u001b[0;36mcheck_array\u001b[0;34m(array, accept_sparse, accept_large_sparse, dtype, order, copy, force_all_finite, ensure_2d, allow_nd, ensure_min_samples, ensure_min_features, warn_on_dtype, estimator)\u001b[0m\n\u001b[1;32m    529\u001b[0m                     \u001b[0marray\u001b[0m \u001b[0;34m=\u001b[0m \u001b[0marray\u001b[0m\u001b[0;34m.\u001b[0m\u001b[0mastype\u001b[0m\u001b[0;34m(\u001b[0m\u001b[0mdtype\u001b[0m\u001b[0;34m,\u001b[0m \u001b[0mcasting\u001b[0m\u001b[0;34m=\u001b[0m\u001b[0;34m\"unsafe\"\u001b[0m\u001b[0;34m,\u001b[0m \u001b[0mcopy\u001b[0m\u001b[0;34m=\u001b[0m\u001b[0;32mFalse\u001b[0m\u001b[0;34m)\u001b[0m\u001b[0;34m\u001b[0m\u001b[0;34m\u001b[0m\u001b[0m\n\u001b[1;32m    530\u001b[0m                 \u001b[0;32melse\u001b[0m\u001b[0;34m:\u001b[0m\u001b[0;34m\u001b[0m\u001b[0;34m\u001b[0m\u001b[0m\n\u001b[0;32m--> 531\u001b[0;31m                     \u001b[0marray\u001b[0m \u001b[0;34m=\u001b[0m \u001b[0mnp\u001b[0m\u001b[0;34m.\u001b[0m\u001b[0masarray\u001b[0m\u001b[0;34m(\u001b[0m\u001b[0marray\u001b[0m\u001b[0;34m,\u001b[0m \u001b[0morder\u001b[0m\u001b[0;34m=\u001b[0m\u001b[0morder\u001b[0m\u001b[0;34m,\u001b[0m \u001b[0mdtype\u001b[0m\u001b[0;34m=\u001b[0m\u001b[0mdtype\u001b[0m\u001b[0;34m)\u001b[0m\u001b[0;34m\u001b[0m\u001b[0;34m\u001b[0m\u001b[0m\n\u001b[0m\u001b[1;32m    532\u001b[0m             \u001b[0;32mexcept\u001b[0m \u001b[0mComplexWarning\u001b[0m\u001b[0;34m:\u001b[0m\u001b[0;34m\u001b[0m\u001b[0;34m\u001b[0m\u001b[0m\n\u001b[1;32m    533\u001b[0m                 raise ValueError(\"Complex data not supported\\n\"\n",
            "\u001b[0;32m/usr/local/lib/python3.7/dist-packages/numpy/core/_asarray.py\u001b[0m in \u001b[0;36masarray\u001b[0;34m(a, dtype, order)\u001b[0m\n\u001b[1;32m     81\u001b[0m \u001b[0;34m\u001b[0m\u001b[0m\n\u001b[1;32m     82\u001b[0m     \"\"\"\n\u001b[0;32m---> 83\u001b[0;31m     \u001b[0;32mreturn\u001b[0m \u001b[0marray\u001b[0m\u001b[0;34m(\u001b[0m\u001b[0ma\u001b[0m\u001b[0;34m,\u001b[0m \u001b[0mdtype\u001b[0m\u001b[0;34m,\u001b[0m \u001b[0mcopy\u001b[0m\u001b[0;34m=\u001b[0m\u001b[0;32mFalse\u001b[0m\u001b[0;34m,\u001b[0m \u001b[0morder\u001b[0m\u001b[0;34m=\u001b[0m\u001b[0morder\u001b[0m\u001b[0;34m)\u001b[0m\u001b[0;34m\u001b[0m\u001b[0;34m\u001b[0m\u001b[0m\n\u001b[0m\u001b[1;32m     84\u001b[0m \u001b[0;34m\u001b[0m\u001b[0m\n\u001b[1;32m     85\u001b[0m \u001b[0;34m\u001b[0m\u001b[0m\n",
            "\u001b[0;31mValueError\u001b[0m: could not convert string to float: 'male'"
          ]
        }
      ]
    },
    {
      "cell_type": "code",
      "metadata": {
        "id": "8hZU0xFMf_jk"
      },
      "source": [
        "# モデルの評価\n",
        "print(classification_report(Y_valid, Y_pred))"
      ],
      "execution_count": null,
      "outputs": []
    },
    {
      "cell_type": "code",
      "metadata": {
        "id": "0KU9-9xogEDh"
      },
      "source": [
        "# 決定木\n",
        "tree_model = DecisionTreeClassifier(criterion='entropy')\n",
        "tree_model.fit(X_train,Y_train)\n",
        "Y_pred = tree_model.predict(X_valid)"
      ],
      "execution_count": null,
      "outputs": []
    },
    {
      "cell_type": "code",
      "metadata": {
        "id": "TOQ8ZYQsgGO9"
      },
      "source": [
        "# モデルの評価\n",
        "print(classification_report(Y_valid,Y_pred))"
      ],
      "execution_count": null,
      "outputs": []
    },
    {
      "cell_type": "code",
      "metadata": {
        "id": "njpYJtF5gKGQ"
      },
      "source": [
        "# ランダムフォレスト。n_estimatorsは警告を出さないための指定\n",
        "randomforest_model = RandomForestClassifier(n_estimators=100)\n",
        "randomforest_model.fit(X_train,Y_train)\n",
        "Y_pred = randomforest_model.predict(X_valid)"
      ],
      "execution_count": null,
      "outputs": []
    },
    {
      "cell_type": "code",
      "metadata": {
        "id": "b2OHoYnOgM_V"
      },
      "source": [
        "# モデルの評価\n",
        "print(classification_report(Y_valid,Y_pred))"
      ],
      "execution_count": null,
      "outputs": []
    },
    {
      "cell_type": "code",
      "metadata": {
        "id": "egrrKDqabM18"
      },
      "source": [
        "#Kaggle Titanic の サンプル・コード（https://www.kaggle.com/c/titanic/code）を参考にしながら以下を作成してみよう"
      ],
      "execution_count": null,
      "outputs": []
    },
    {
      "cell_type": "code",
      "metadata": {
        "id": "M-N5AaVjbMKg"
      },
      "source": [
        "# 1等、2等、3等それぞれの階層別に、Survived, Age, SibSp, Parch, Fare の平均を求めよう。\n",
        "dataset.groupby('Pclass').mean()"
      ],
      "execution_count": null,
      "outputs": []
    },
    {
      "cell_type": "code",
      "metadata": {
        "id": "43EUv2xHbPIj"
      },
      "source": [
        "# 性別ごとに、Survived, Age, SibSp, Parch, Fare の平均を求めよう（以下、作成）\n",
        "dataset.groupby('Sex').mean()"
      ],
      "execution_count": null,
      "outputs": []
    },
    {
      "cell_type": "code",
      "metadata": {
        "id": "Xjd1uAOlbSBn"
      },
      "source": [
        "# 乗客の人数は、1等、2等、3等のどれが多いか？value_counts() で調べよう（以下、作成）\n",
        "dataset['Pclass'].value_counts()"
      ],
      "execution_count": null,
      "outputs": []
    },
    {
      "cell_type": "code",
      "metadata": {
        "id": "VCe0efe7bUBq"
      },
      "source": [
        "# どの階級の人数が多いか、今度はグラフで視覚化しよう。\n",
        "plt.figure(figsize=(10,8))\n",
        "sns.set_theme(style='ticks')\n",
        "sns.countplot(x=dataset.Pclass, hue=dataset.Sex, palette='Set1' )"
      ],
      "execution_count": null,
      "outputs": []
    },
    {
      "cell_type": "code",
      "metadata": {
        "id": "STAS5YSgbWOI"
      },
      "source": [
        "# 1等、2等、3等、それぞれはどんな年齢層の乗客が多いか、グラフで視覚化しよう。どんな特徴があるか？（以下、作成）\n",
        "plt.figure(figsize=(10,8))\n",
        "sns.set_theme(style='ticks')\n",
        "sns.stripplot(x=dataset.Pclass, hue=dataset.Age, palette='Set1',linewidth=0.6, jitter= 0.3)"
      ],
      "execution_count": null,
      "outputs": []
    },
    {
      "cell_type": "code",
      "metadata": {
        "id": "8pW0ZmCRbZvW"
      },
      "source": [
        "# 1等、2等、3等の乗客は、それぞれはどこの港から乗船しているか多いか、グラフで視覚化しよう（以下、作成）\n",
        "plt.figure(figsize=(10,8))\n",
        "sns.set_theme(style='ticks')\n",
        "sns.countplot(x=dataset.Pclass, hue=dataset.Embarked, palette='Set1' )"
      ],
      "execution_count": null,
      "outputs": []
    },
    {
      "cell_type": "code",
      "metadata": {
        "id": "gbGEsYKhbaUr"
      },
      "source": [
        "# 乗客は全体としてどの年齢層が多いか、グラフで視覚化しよう。\n",
        "plt.figure(figsize=(12,8))\n",
        "sns.set_color_codes()\n",
        "sns.distplot(x = dataset.Age, color=\"y\")"
      ],
      "execution_count": null,
      "outputs": []
    },
    {
      "cell_type": "code",
      "metadata": {
        "id": "P4bmIWgZbc6n"
      },
      "source": [
        "# Fare（チケットの値段）と年齢の散布図を作成しよう（以下、作成）\n",
        "plt.figure(figsize=(12,8))\n",
        "sns.scatterplot(x=dataset.Fare, y = dataset.Age)"
      ],
      "execution_count": null,
      "outputs": []
    }
  ]
}